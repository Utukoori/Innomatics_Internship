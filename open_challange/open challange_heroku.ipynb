{
 "cells": [
  {
   "cell_type": "code",
   "execution_count": 1,
   "id": "heavy-boring",
   "metadata": {},
   "outputs": [],
   "source": [
    "# required libraries\n",
    "import numpy as np\n",
    "import pandas as pd\n",
    "import seaborn as sns\n",
    "import matplotlib.pyplot as plt\n",
    "%matplotlib inline\n",
    "\n",
    "from pickle import load,dump\n",
    "\n",
    "from sklearn.model_selection import train_test_split\n",
    "\n",
    "from sklearn.linear_model import LogisticRegression\n",
    "from sklearn.svm import SVC\n",
    "\n",
    "from sklearn.metrics import accuracy_score\n",
    "\n",
    "import warnings\n",
    "warnings.filterwarnings(\"ignore\")"
   ]
  },
  {
   "cell_type": "code",
   "execution_count": 2,
   "id": "documentary-monitoring",
   "metadata": {},
   "outputs": [
    {
     "data": {
      "text/html": [
       "<div>\n",
       "<style scoped>\n",
       "    .dataframe tbody tr th:only-of-type {\n",
       "        vertical-align: middle;\n",
       "    }\n",
       "\n",
       "    .dataframe tbody tr th {\n",
       "        vertical-align: top;\n",
       "    }\n",
       "\n",
       "    .dataframe thead th {\n",
       "        text-align: right;\n",
       "    }\n",
       "</style>\n",
       "<table border=\"1\" class=\"dataframe\">\n",
       "  <thead>\n",
       "    <tr style=\"text-align: right;\">\n",
       "      <th></th>\n",
       "      <th>col1</th>\n",
       "      <th>col2</th>\n",
       "      <th>output</th>\n",
       "    </tr>\n",
       "  </thead>\n",
       "  <tbody>\n",
       "    <tr>\n",
       "      <th>0</th>\n",
       "      <td>-38.366669</td>\n",
       "      <td>113.000000</td>\n",
       "      <td>1</td>\n",
       "    </tr>\n",
       "    <tr>\n",
       "      <th>1</th>\n",
       "      <td>-39.818572</td>\n",
       "      <td>123.943369</td>\n",
       "      <td>1</td>\n",
       "    </tr>\n",
       "    <tr>\n",
       "      <th>2</th>\n",
       "      <td>-55.638240</td>\n",
       "      <td>114.551862</td>\n",
       "      <td>1</td>\n",
       "    </tr>\n",
       "    <tr>\n",
       "      <th>3</th>\n",
       "      <td>-36.378005</td>\n",
       "      <td>95.616515</td>\n",
       "      <td>1</td>\n",
       "    </tr>\n",
       "    <tr>\n",
       "      <th>4</th>\n",
       "      <td>-39.366669</td>\n",
       "      <td>112.000000</td>\n",
       "      <td>1</td>\n",
       "    </tr>\n",
       "  </tbody>\n",
       "</table>\n",
       "</div>"
      ],
      "text/plain": [
       "        col1        col2  output\n",
       "0 -38.366669  113.000000       1\n",
       "1 -39.818572  123.943369       1\n",
       "2 -55.638240  114.551862       1\n",
       "3 -36.378005   95.616515       1\n",
       "4 -39.366669  112.000000       1"
      ]
     },
     "execution_count": 2,
     "metadata": {},
     "output_type": "execute_result"
    }
   ],
   "source": [
    "df = pd.read_csv(\"./Data/train.csv\")\n",
    "df.head()"
   ]
  },
  {
   "cell_type": "code",
   "execution_count": 3,
   "id": "suburban-culture",
   "metadata": {},
   "outputs": [
    {
     "data": {
      "text/plain": [
       "col1      float64\n",
       "col2      float64\n",
       "output      int64\n",
       "dtype: object"
      ]
     },
     "execution_count": 3,
     "metadata": {},
     "output_type": "execute_result"
    }
   ],
   "source": [
    "df.dtypes"
   ]
  },
  {
   "cell_type": "code",
   "execution_count": 4,
   "id": "southern-margin",
   "metadata": {},
   "outputs": [
    {
     "data": {
      "text/plain": [
       "col1      False\n",
       "col2      False\n",
       "output    False\n",
       "dtype: bool"
      ]
     },
     "execution_count": 4,
     "metadata": {},
     "output_type": "execute_result"
    }
   ],
   "source": [
    "df.isnull().any()"
   ]
  },
  {
   "cell_type": "code",
   "execution_count": 5,
   "id": "incoming-participation",
   "metadata": {},
   "outputs": [
    {
     "data": {
      "text/plain": [
       "1    0.602504\n",
       "0    0.397496\n",
       "Name: output, dtype: float64"
      ]
     },
     "execution_count": 5,
     "metadata": {},
     "output_type": "execute_result"
    }
   ],
   "source": [
    "df['output'].value_counts()/len(df)"
   ]
  },
  {
   "cell_type": "code",
   "execution_count": 6,
   "id": "square-debate",
   "metadata": {},
   "outputs": [],
   "source": [
    "# deviding independent and independent\n",
    "x = df.drop('output',axis=1)\n",
    "y = df.output"
   ]
  },
  {
   "cell_type": "code",
   "execution_count": 7,
   "id": "arctic-observer",
   "metadata": {},
   "outputs": [
    {
     "data": {
      "text/plain": [
       "<AxesSubplot:xlabel='col1', ylabel='col2'>"
      ]
     },
     "execution_count": 7,
     "metadata": {},
     "output_type": "execute_result"
    },
    {
     "data": {
      "image/png": "[encoded data removed]",
      "text/plain": [
       "<Figure size 432x288 with 1 Axes>"
      ]
     },
     "metadata": {
      "needs_background": "light"
     },
     "output_type": "display_data"
    }
   ],
   "source": [
    "sns.scatterplot(x='col1',y='col2',hue='output',data=df)"
   ]
  },
  {
   "cell_type": "code",
   "execution_count": 8,
   "id": "superb-tamil",
   "metadata": {},
   "outputs": [
    {
     "data": {
      "text/plain": [
       "((1022, 2), (1022,), (256, 2), (256,))"
      ]
     },
     "execution_count": 8,
     "metadata": {},
     "output_type": "execute_result"
    }
   ],
   "source": [
    "# train_test_split\n",
    "x_train,x_test,y_train,y_test = train_test_split(x,y,test_size=0.2,random_state=1)\n",
    "x_train.shape,y_train.shape,x_test.shape,y_test.shape"
   ]
  },
  {
   "cell_type": "code",
   "execution_count": 9,
   "id": "exempt-watson",
   "metadata": {},
   "outputs": [],
   "source": [
    "# model building\n",
    "# logestic regression\n",
    "\n",
    "model_lr = LogisticRegression()\n",
    "model_lr.fit(x_train,y_train)\n",
    "y_pred = model_lr.predict(x_test)"
   ]
  },
  {
   "cell_type": "code",
   "execution_count": 10,
   "id": "demanding-savannah",
   "metadata": {
    "scrolled": true
   },
   "outputs": [
    {
     "data": {
      "text/plain": [
       "0.59765625"
      ]
     },
     "execution_count": 10,
     "metadata": {},
     "output_type": "execute_result"
    }
   ],
   "source": [
    "accuracy_score(y_test,y_pred)"
   ]
  },
  {
   "cell_type": "code",
   "execution_count": 11,
   "id": "economic-usage",
   "metadata": {},
   "outputs": [
    {
     "data": {
      "text/plain": [
       "0.59765625"
      ]
     },
     "execution_count": 11,
     "metadata": {},
     "output_type": "execute_result"
    }
   ],
   "source": [
    "# svm with linear kernal\n",
    "\n",
    "model_svm_lr = SVC(kernel='linear')\n",
    "model_svm_lr.fit(x_train,y_train)\n",
    "y_pred = model_svm_lr.predict(x_test)\n",
    "accuracy_score(y_test,y_pred)"
   ]
  },
  {
   "cell_type": "code",
   "execution_count": 12,
   "id": "upset-finding",
   "metadata": {},
   "outputs": [
    {
     "data": {
      "text/plain": [
       "0.6796875"
      ]
     },
     "execution_count": 12,
     "metadata": {},
     "output_type": "execute_result"
    }
   ],
   "source": [
    "# svm with rbf kernal\n",
    "\n",
    "model_svm_lr = SVC(kernel='rbf')\n",
    "model_svm_lr.fit(x_train,y_train)\n",
    "y_pred = model_svm_lr.predict(x_test)\n",
    "accuracy_score(y_test,y_pred)"
   ]
  },
  {
   "cell_type": "code",
   "execution_count": 13,
   "id": "first-degree",
   "metadata": {},
   "outputs": [],
   "source": [
    "#Saving the Model in Pickle"
   ]
  },
  {
   "cell_type": "code",
   "execution_count": 17,
   "id": "ruled-kentucky",
   "metadata": {},
   "outputs": [
    {
     "data": {
      "text/plain": [
       "SVC(C=1.0, cache_size=200, class_weight=None, coef0=0.0,\n",
       "    decision_function_shape='ovr', degree=3, gamma='auto_deprecated',\n",
       "    kernel='rbf', max_iter=-1, probability=False, random_state=None,\n",
       "    shrinking=True, tol=0.001, verbose=False)"
      ]
     },
     "execution_count": 17,
     "metadata": {},
     "output_type": "execute_result"
    }
   ],
   "source": [
    "from sklearn.svm import SVC\n",
    "   \n",
    "model = SVC(kernel='rbf')\n",
    "model.fit(x,y)"
   ]
  },
  {
   "cell_type": "code",
   "execution_count": 19,
   "id": "handmade-going",
   "metadata": {},
   "outputs": [],
   "source": [
    "dump(model, open('pickle/svc_rbf_model.pkl', 'wb'))"
   ]
  },
  {
   "cell_type": "markdown",
   "id": "naked-tradition",
   "metadata": {},
   "source": [
    "___________\n",
    "_____________"
   ]
  },
  {
   "cell_type": "code",
   "execution_count": 20,
   "id": "activated-draft",
   "metadata": {},
   "outputs": [],
   "source": [
    "# Loading pretrained svc with rbf kernal from pickle file\n",
    "model = load(open('pickle/svc_rbf_model.pkl', 'rb'))"
   ]
  },
  {
   "cell_type": "code",
   "execution_count": 53,
   "id": "dynamic-gilbert",
   "metadata": {},
   "outputs": [
    {
     "data": {
      "text/html": [
       "<div>\n",
       "<style scoped>\n",
       "    .dataframe tbody tr th:only-of-type {\n",
       "        vertical-align: middle;\n",
       "    }\n",
       "\n",
       "    .dataframe tbody tr th {\n",
       "        vertical-align: top;\n",
       "    }\n",
       "\n",
       "    .dataframe thead th {\n",
       "        text-align: right;\n",
       "    }\n",
       "</style>\n",
       "<table border=\"1\" class=\"dataframe\">\n",
       "  <thead>\n",
       "    <tr style=\"text-align: right;\">\n",
       "      <th></th>\n",
       "      <th>col1</th>\n",
       "      <th>col2</th>\n",
       "      <th>output</th>\n",
       "    </tr>\n",
       "  </thead>\n",
       "  <tbody>\n",
       "    <tr>\n",
       "      <th>0</th>\n",
       "      <td>-38.366669</td>\n",
       "      <td>113.000000</td>\n",
       "      <td>1</td>\n",
       "    </tr>\n",
       "    <tr>\n",
       "      <th>1</th>\n",
       "      <td>-39.818572</td>\n",
       "      <td>123.943369</td>\n",
       "      <td>1</td>\n",
       "    </tr>\n",
       "  </tbody>\n",
       "</table>\n",
       "</div>"
      ],
      "text/plain": [
       "        col1        col2  output\n",
       "0 -38.366669  113.000000       1\n",
       "1 -39.818572  123.943369       1"
      ]
     },
     "execution_count": 53,
     "metadata": {},
     "output_type": "execute_result"
    }
   ],
   "source": [
    "df[df['output']==1].head(2)"
   ]
  },
  {
   "cell_type": "code",
   "execution_count": 54,
   "id": "about-alloy",
   "metadata": {},
   "outputs": [
    {
     "name": "stdout",
     "output_type": "stream",
     "text": [
      "Enter col1, col2 values: -39.818572\t123.943369\n"
     ]
    },
    {
     "data": {
      "text/plain": [
       "array([['-39.818572', '123.943369']], dtype='<U10')"
      ]
     },
     "execution_count": 54,
     "metadata": {},
     "output_type": "execute_result"
    }
   ],
   "source": [
    "x = []\n",
    "x = input(\"Enter col1, col2 values: \").split()\n",
    "x = np.array(x)\n",
    "x = x.reshape(1,-1)\n",
    "x"
   ]
  },
  {
   "cell_type": "code",
   "execution_count": 55,
   "id": "synthetic-proxy",
   "metadata": {},
   "outputs": [
    {
     "data": {
      "text/plain": [
       "1"
      ]
     },
     "execution_count": 55,
     "metadata": {},
     "output_type": "execute_result"
    }
   ],
   "source": [
    "result = model.predict(x)\n",
    "result[0]"
   ]
  },
  {
   "cell_type": "markdown",
   "id": "terminal-extent",
   "metadata": {},
   "source": [
    "### Reason for selecting `rbf` kernal\n",
    "\n",
    "- By looking plot data not linearly separable, logestic regression and support vector machine classifier with `linear` kernal assumes that data is linearly separable so linear models not well perform on this data.\n",
    "- `rbf` is `Radial Basis Function kernel` this kernal is nonlinear kernel so this kernel performs well this given dataset."
   ]
  },
  {
   "cell_type": "markdown",
   "id": "available-yorkshire",
   "metadata": {},
   "source": [
    "________\n",
    "__________"
   ]
  }
 ],
 "metadata": {
  "kernelspec": {
   "display_name": "Python 3",
   "language": "python",
   "name": "python3"
  },
  "language_info": {
   "codemirror_mode": {
    "name": "ipython",
    "version": 3
   },
   "file_extension": ".py",
   "mimetype": "text/x-python",
   "name": "python",
   "nbconvert_exporter": "python",
   "pygments_lexer": "ipython3",
   "version": "3.7.10"
  }
 },
 "nbformat": 4,
 "nbformat_minor": 5
}
