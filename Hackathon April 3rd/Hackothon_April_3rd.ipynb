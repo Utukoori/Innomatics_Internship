{
 "cells": [
  {
   "cell_type": "code",
   "execution_count": 1,
   "id": "endangered-hamburg",
   "metadata": {},
   "outputs": [],
   "source": [
    "# required libraries\n",
    "\n",
    "import numpy as np\n",
    "import pandas as pd\n",
    "import matplotlib.pyplot as plt\n",
    "import seaborn as sns\n",
    "\n",
    "from sklearn.preprocessing import StandardScaler\n",
    "from scipy.stats.mstats import winsorize\n",
    "from sklearn.model_selection import train_test_split\n",
    "from sklearn.linear_model import LogisticRegression\n",
    "from sklearn.svm import SVC\n",
    "from sklearn.neighbors import KNeighborsClassifier\n",
    "from sklearn.tree import DecisionTreeClassifier\n",
    "from sklearn.model_selection import GridSearchCV\n",
    "from sklearn.model_selection import RepeatedStratifiedKFold\n",
    "from sklearn.metrics import accuracy_score,roc_curve,classification_report\n",
    "\n",
    "import warnings\n",
    "warnings.filterwarnings('ignore')"
   ]
  },
  {
   "cell_type": "code",
   "execution_count": 2,
   "id": "equipped-gallery",
   "metadata": {},
   "outputs": [
    {
     "data": {
      "text/html": [
       "<div>\n",
       "<style scoped>\n",
       "    .dataframe tbody tr th:only-of-type {\n",
       "        vertical-align: middle;\n",
       "    }\n",
       "\n",
       "    .dataframe tbody tr th {\n",
       "        vertical-align: top;\n",
       "    }\n",
       "\n",
       "    .dataframe thead th {\n",
       "        text-align: right;\n",
       "    }\n",
       "</style>\n",
       "<table border=\"1\" class=\"dataframe\">\n",
       "  <thead>\n",
       "    <tr style=\"text-align: right;\">\n",
       "      <th></th>\n",
       "      <th>x1</th>\n",
       "      <th>x2</th>\n",
       "      <th>y</th>\n",
       "    </tr>\n",
       "  </thead>\n",
       "  <tbody>\n",
       "    <tr>\n",
       "      <th>0</th>\n",
       "      <td>-119.366669</td>\n",
       "      <td>115.000000</td>\n",
       "      <td>1</td>\n",
       "    </tr>\n",
       "    <tr>\n",
       "      <th>1</th>\n",
       "      <td>-101.108045</td>\n",
       "      <td>97.777159</td>\n",
       "      <td>1</td>\n",
       "    </tr>\n",
       "    <tr>\n",
       "      <th>2</th>\n",
       "      <td>-130.278658</td>\n",
       "      <td>106.767654</td>\n",
       "      <td>1</td>\n",
       "    </tr>\n",
       "    <tr>\n",
       "      <th>3</th>\n",
       "      <td>-114.703415</td>\n",
       "      <td>101.195477</td>\n",
       "      <td>1</td>\n",
       "    </tr>\n",
       "    <tr>\n",
       "      <th>4</th>\n",
       "      <td>-119.366669</td>\n",
       "      <td>115.000000</td>\n",
       "      <td>1</td>\n",
       "    </tr>\n",
       "  </tbody>\n",
       "</table>\n",
       "</div>"
      ],
      "text/plain": [
       "           x1          x2  y\n",
       "0 -119.366669  115.000000  1\n",
       "1 -101.108045   97.777159  1\n",
       "2 -130.278658  106.767654  1\n",
       "3 -114.703415  101.195477  1\n",
       "4 -119.366669  115.000000  1"
      ]
     },
     "execution_count": 2,
     "metadata": {},
     "output_type": "execute_result"
    }
   ],
   "source": [
    "df = pd.read_csv(\"./data.csv\")\n",
    "df.head()"
   ]
  },
  {
   "cell_type": "code",
   "execution_count": 3,
   "id": "conceptual-experience",
   "metadata": {},
   "outputs": [
    {
     "data": {
      "text/plain": [
       "(2227, 3)"
      ]
     },
     "execution_count": 3,
     "metadata": {},
     "output_type": "execute_result"
    }
   ],
   "source": [
    "df.shape"
   ]
  },
  {
   "cell_type": "markdown",
   "id": "contrary-stationery",
   "metadata": {},
   "source": [
    "- The dataset has `2227` rows and `3` columns"
   ]
  },
  {
   "cell_type": "code",
   "execution_count": 4,
   "id": "breathing-tract",
   "metadata": {},
   "outputs": [
    {
     "data": {
      "text/plain": [
       "x1    5\n",
       "x2    3\n",
       "y     0\n",
       "dtype: int64"
      ]
     },
     "execution_count": 4,
     "metadata": {},
     "output_type": "execute_result"
    }
   ],
   "source": [
    "# checking missing values\n",
    "df.isnull().sum()"
   ]
  },
  {
   "cell_type": "code",
   "execution_count": 5,
   "id": "proprietary-victorian",
   "metadata": {},
   "outputs": [
    {
     "data": {
      "text/plain": [
       "x1    0.22\n",
       "x2    0.13\n",
       "y     0.00\n",
       "dtype: float64"
      ]
     },
     "execution_count": 5,
     "metadata": {},
     "output_type": "execute_result"
    }
   ],
   "source": [
    "# checking missing values percentage\n",
    "round(df.isnull().sum()/len(df)*100,2)"
   ]
  },
  {
   "cell_type": "markdown",
   "id": "looking-ranch",
   "metadata": {},
   "source": [
    "- In the data we have missing values. `x1` has `0.22%` and `x2` has `0.13%` \n",
    "    - Here missing values are very small so i am droping the missing values. "
   ]
  },
  {
   "cell_type": "code",
   "execution_count": 6,
   "id": "monetary-garlic",
   "metadata": {},
   "outputs": [],
   "source": [
    "# droping missing values\n",
    "df.dropna(inplace=True)"
   ]
  },
  {
   "cell_type": "code",
   "execution_count": 7,
   "id": "difficult-relative",
   "metadata": {},
   "outputs": [
    {
     "data": {
      "text/plain": [
       "x1    0\n",
       "x2    0\n",
       "y     0\n",
       "dtype: int64"
      ]
     },
     "execution_count": 7,
     "metadata": {},
     "output_type": "execute_result"
    }
   ],
   "source": [
    "# again checking missing values\n",
    "df.isnull().sum()"
   ]
  },
  {
   "cell_type": "code",
   "execution_count": 8,
   "id": "thirty-columbus",
   "metadata": {},
   "outputs": [
    {
     "data": {
      "text/plain": [
       "x1    float64\n",
       "x2    float64\n",
       "y       int64\n",
       "dtype: object"
      ]
     },
     "execution_count": 8,
     "metadata": {},
     "output_type": "execute_result"
    }
   ],
   "source": [
    "# checking type of attributes\n",
    "df.dtypes"
   ]
  },
  {
   "cell_type": "code",
   "execution_count": 9,
   "id": "fifty-tourism",
   "metadata": {},
   "outputs": [
    {
     "data": {
      "text/plain": [
       "0    0.557909\n",
       "1    0.442091\n",
       "Name: y, dtype: float64"
      ]
     },
     "execution_count": 9,
     "metadata": {},
     "output_type": "execute_result"
    }
   ],
   "source": [
    "# looking balance / imbalnce\n",
    "df['y'].value_counts()/len(df)"
   ]
  },
  {
   "cell_type": "markdown",
   "id": "juvenile-grill",
   "metadata": {},
   "source": [
    "## Data Visualization"
   ]
  },
  {
   "cell_type": "code",
   "execution_count": 10,
   "id": "pressed-active",
   "metadata": {},
   "outputs": [
    {
     "data": {
      "text/plain": [
       "<AxesSubplot:xlabel='x1'>"
      ]
     },
     "execution_count": 10,
     "metadata": {},
     "output_type": "execute_result"
    },
    {
     "data": {
      "image/png": "[encoded data removed]",
      "text/plain": [
       "<Figure size 432x288 with 1 Axes>"
      ]
     },
     "metadata": {
      "needs_background": "light"
     },
     "output_type": "display_data"
    }
   ],
   "source": [
    "sns.boxplot(x='x1',data=df)"
   ]
  },
  {
   "cell_type": "code",
   "execution_count": 11,
   "id": "assisted-toner",
   "metadata": {},
   "outputs": [
    {
     "data": {
      "text/plain": [
       "<AxesSubplot:xlabel='x2'>"
      ]
     },
     "execution_count": 11,
     "metadata": {},
     "output_type": "execute_result"
    },
    {
     "data": {
      "image/png": "[encoded data removed]",
      "text/plain": [
       "<Figure size 432x288 with 1 Axes>"
      ]
     },
     "metadata": {
      "needs_background": "light"
     },
     "output_type": "display_data"
    }
   ],
   "source": [
    "sns.boxplot(x='x2',data=df)"
   ]
  },
  {
   "cell_type": "code",
   "execution_count": 12,
   "id": "ultimate-saint",
   "metadata": {},
   "outputs": [],
   "source": [
    "## treating outliers\n",
    "df[\"x2\"] = winsorize(df[\"x2\"],(0,0.001))"
   ]
  },
  {
   "cell_type": "code",
   "execution_count": 13,
   "id": "interesting-parent",
   "metadata": {},
   "outputs": [
    {
     "data": {
      "text/plain": [
       "<AxesSubplot:xlabel='x2'>"
      ]
     },
     "execution_count": 13,
     "metadata": {},
     "output_type": "execute_result"
    },
    {
     "data": {
      "image/png": "[encoded data removed]",
      "text/plain": [
       "<Figure size 432x288 with 1 Axes>"
      ]
     },
     "metadata": {
      "needs_background": "light"
     },
     "output_type": "display_data"
    }
   ],
   "source": [
    "sns.boxplot(x='x2',data=df)"
   ]
  },
  {
   "cell_type": "code",
   "execution_count": 14,
   "id": "closed-nowhere",
   "metadata": {},
   "outputs": [
    {
     "data": {
      "text/plain": [
       "<AxesSubplot:xlabel='x1', ylabel='x2'>"
      ]
     },
     "execution_count": 14,
     "metadata": {},
     "output_type": "execute_result"
    },
    {
     "data": {
      "image/png": "[encoded data removed]",
      "text/plain": [
       "<Figure size 432x288 with 1 Axes>"
      ]
     },
     "metadata": {
      "needs_background": "light"
     },
     "output_type": "display_data"
    }
   ],
   "source": [
    "sns.scatterplot(x='x1',y='x2',hue='y',data=df)"
   ]
  },
  {
   "cell_type": "code",
   "execution_count": 15,
   "id": "wireless-thirty",
   "metadata": {},
   "outputs": [
    {
     "data": {
      "text/plain": [
       "<AxesSubplot:xlabel='y', ylabel='count'>"
      ]
     },
     "execution_count": 15,
     "metadata": {},
     "output_type": "execute_result"
    },
    {
     "data": {
      "image/png": "[encoded data removed]",
      "text/plain": [
       "<Figure size 432x288 with 1 Axes>"
      ]
     },
     "metadata": {
      "needs_background": "light"
     },
     "output_type": "display_data"
    }
   ],
   "source": [
    "sns.countplot(df['y'])"
   ]
  },
  {
   "cell_type": "code",
   "execution_count": 16,
   "id": "expanded-documentary",
   "metadata": {},
   "outputs": [],
   "source": [
    "## deviding data into independent and dependent variables\n",
    "\n",
    "x = df.drop('y',axis=1)\n",
    "y = df['y']"
   ]
  },
  {
   "cell_type": "code",
   "execution_count": 17,
   "id": "inclusive-consciousness",
   "metadata": {},
   "outputs": [],
   "source": [
    "# Standardization\n",
    "sc = StandardScaler()\n",
    "x = sc.fit_transform(x)"
   ]
  },
  {
   "cell_type": "markdown",
   "id": "fossil-ancient",
   "metadata": {},
   "source": [
    "## train test split"
   ]
  },
  {
   "cell_type": "code",
   "execution_count": 18,
   "id": "rising-reset",
   "metadata": {},
   "outputs": [],
   "source": [
    "x_train,x_test,y_train,y_test = train_test_split(x,y,test_size=0.25,random_state=1)"
   ]
  },
  {
   "cell_type": "code",
   "execution_count": 19,
   "id": "hidden-contract",
   "metadata": {},
   "outputs": [
    {
     "data": {
      "text/plain": [
       "((1664, 2), (555, 2), (1664,), (555,))"
      ]
     },
     "execution_count": 19,
     "metadata": {},
     "output_type": "execute_result"
    }
   ],
   "source": [
    "x_train.shape,x_test.shape,y_train.shape,y_test.shape"
   ]
  },
  {
   "cell_type": "code",
   "execution_count": 20,
   "id": "confident-performance",
   "metadata": {},
   "outputs": [],
   "source": [
    "# Accuracy, classification report,roc_curve\n",
    "def acc_clas_roc(y_test,y_pred,y_pred_prob):\n",
    "    \"\"\"Function for accuracy score, classification report and roc_curve\"\"\"\n",
    "    print(\"Accuracy\",accuracy_score(y_test,y_pred),\"\\n\\n\")\n",
    "    print(classification_report(y_test,y_pred))\n",
    "    fpr,tpr,th = roc_curve(y_test,y_pred_prob[:,1])\n",
    "    plt.plot(fpr,tpr)\n",
    "    plt.ylabel('TPR')\n",
    "    plt.xlabel('FPR')\n",
    "    plt.title('ROC')\n",
    "    plt.show()"
   ]
  },
  {
   "cell_type": "code",
   "execution_count": 21,
   "id": "senior-sixth",
   "metadata": {},
   "outputs": [],
   "source": [
    "acc_model = []\n",
    "acc_hyper_models = []"
   ]
  },
  {
   "cell_type": "markdown",
   "id": "eligible-carter",
   "metadata": {},
   "source": [
    "## LogisticRegression"
   ]
  },
  {
   "cell_type": "code",
   "execution_count": 22,
   "id": "virtual-drink",
   "metadata": {},
   "outputs": [
    {
     "name": "stdout",
     "output_type": "stream",
     "text": [
      "Accuracy 0.7207207207207207 \n",
      "\n",
      "\n",
      "              precision    recall  f1-score   support\n",
      "\n",
      "           0       0.67      0.99      0.80       307\n",
      "           1       0.97      0.39      0.55       248\n",
      "\n",
      "    accuracy                           0.72       555\n",
      "   macro avg       0.82      0.69      0.68       555\n",
      "weighted avg       0.80      0.72      0.69       555\n",
      "\n"
     ]
    },
    {
     "data": {
      "image/png": "[encoded data removed]",
      "text/plain": [
       "<Figure size 432x288 with 1 Axes>"
      ]
     },
     "metadata": {
      "needs_background": "light"
     },
     "output_type": "display_data"
    }
   ],
   "source": [
    "lr_model = LogisticRegression()\n",
    "lr_model.fit(x_train,y_train)\n",
    "y_pred = lr_model.predict(x_test)\n",
    "y_pred_prob = lr_model.predict_proba(x_test)\n",
    "\n",
    "acc_clas_roc(y_test,y_pred,y_pred_prob)\n",
    "\n",
    "acc_model.append(accuracy_score(y_test,y_pred))"
   ]
  },
  {
   "cell_type": "markdown",
   "id": "authentic-promotion",
   "metadata": {},
   "source": [
    "## SVM with Linear Kernel"
   ]
  },
  {
   "cell_type": "code",
   "execution_count": 23,
   "id": "ignored-prayer",
   "metadata": {},
   "outputs": [
    {
     "name": "stdout",
     "output_type": "stream",
     "text": [
      "Accuracy 0.7045045045045045 \n",
      "\n",
      "\n",
      "              precision    recall  f1-score   support\n",
      "\n",
      "           0       0.65      1.00      0.79       307\n",
      "           1       1.00      0.34      0.51       248\n",
      "\n",
      "    accuracy                           0.70       555\n",
      "   macro avg       0.83      0.67      0.65       555\n",
      "weighted avg       0.81      0.70      0.66       555\n",
      "\n"
     ]
    },
    {
     "data": {
      "image/png": "[encoded data removed]",
      "text/plain": [
       "<Figure size 432x288 with 1 Axes>"
      ]
     },
     "metadata": {
      "needs_background": "light"
     },
     "output_type": "display_data"
    }
   ],
   "source": [
    "lr_svc = SVC(kernel='linear',probability=True)\n",
    "lr_svc.fit(x_train,y_train)\n",
    "y_pred = lr_svc.predict(x_test)\n",
    "y_pred_prob = lr_svc.predict_proba(x_test)\n",
    "\n",
    "acc_clas_roc(y_test,y_pred,y_pred_prob)\n",
    "\n",
    "acc_model.append(accuracy_score(y_test,y_pred))"
   ]
  },
  {
   "cell_type": "markdown",
   "id": "behind-algeria",
   "metadata": {},
   "source": [
    "## SVM with RBF Kernel"
   ]
  },
  {
   "cell_type": "code",
   "execution_count": 24,
   "id": "mechanical-entertainment",
   "metadata": {},
   "outputs": [
    {
     "name": "stdout",
     "output_type": "stream",
     "text": [
      "Accuracy 0.9387387387387387 \n",
      "\n",
      "\n",
      "              precision    recall  f1-score   support\n",
      "\n",
      "           0       0.91      0.98      0.95       307\n",
      "           1       0.98      0.88      0.93       248\n",
      "\n",
      "    accuracy                           0.94       555\n",
      "   macro avg       0.95      0.93      0.94       555\n",
      "weighted avg       0.94      0.94      0.94       555\n",
      "\n"
     ]
    },
    {
     "data": {
      "image/png": "[encoded data removed]",
      "text/plain": [
       "<Figure size 432x288 with 1 Axes>"
      ]
     },
     "metadata": {
      "needs_background": "light"
     },
     "output_type": "display_data"
    }
   ],
   "source": [
    "rbf_svc = SVC(kernel='rbf',probability=True)\n",
    "rbf_svc.fit(x_train,y_train)\n",
    "y_pred = rbf_svc.predict(x_test)\n",
    "y_pred_prob = lr_svc.predict_proba(x_test)\n",
    "\n",
    "acc_clas_roc(y_test,y_pred,y_pred_prob)\n",
    "\n",
    "acc_model.append(accuracy_score(y_test,y_pred))"
   ]
  },
  {
   "cell_type": "markdown",
   "id": "boolean-intervention",
   "metadata": {},
   "source": [
    "## Decision Tree"
   ]
  },
  {
   "cell_type": "code",
   "execution_count": 25,
   "id": "blocked-springfield",
   "metadata": {},
   "outputs": [
    {
     "name": "stdout",
     "output_type": "stream",
     "text": [
      "Accuracy 0.9333333333333333 \n",
      "\n",
      "\n",
      "              precision    recall  f1-score   support\n",
      "\n",
      "           0       0.94      0.94      0.94       307\n",
      "           1       0.92      0.93      0.93       248\n",
      "\n",
      "    accuracy                           0.93       555\n",
      "   macro avg       0.93      0.93      0.93       555\n",
      "weighted avg       0.93      0.93      0.93       555\n",
      "\n"
     ]
    },
    {
     "data": {
      "image/png": "[encoded data removed]",
      "text/plain": [
       "<Figure size 432x288 with 1 Axes>"
      ]
     },
     "metadata": {
      "needs_background": "light"
     },
     "output_type": "display_data"
    }
   ],
   "source": [
    "dt_model = DecisionTreeClassifier()\n",
    "dt_model.fit(x_train,y_train)\n",
    "y_pred = dt_model.predict(x_test)\n",
    "y_pred_prob = dt_model.predict_proba(x_test)\n",
    "\n",
    "acc_clas_roc(y_test,y_pred,y_pred_prob)\n",
    "\n",
    "acc_model.append(accuracy_score(y_test,y_pred))"
   ]
  },
  {
   "cell_type": "markdown",
   "id": "employed-tuition",
   "metadata": {},
   "source": [
    "## KNN"
   ]
  },
  {
   "cell_type": "code",
   "execution_count": 26,
   "id": "thorough-vacation",
   "metadata": {},
   "outputs": [
    {
     "name": "stdout",
     "output_type": "stream",
     "text": [
      "Accuracy 0.9423423423423424 \n",
      "\n",
      "\n",
      "              precision    recall  f1-score   support\n",
      "\n",
      "           0       0.95      0.95      0.95       307\n",
      "           1       0.94      0.94      0.94       248\n",
      "\n",
      "    accuracy                           0.94       555\n",
      "   macro avg       0.94      0.94      0.94       555\n",
      "weighted avg       0.94      0.94      0.94       555\n",
      "\n"
     ]
    },
    {
     "data": {
      "image/png": "[encoded data removed]",
      "text/plain": [
       "<Figure size 432x288 with 1 Axes>"
      ]
     },
     "metadata": {
      "needs_background": "light"
     },
     "output_type": "display_data"
    }
   ],
   "source": [
    "model_knn = KNeighborsClassifier()\n",
    "model_knn.fit(x_train,y_train)\n",
    "y_pred = model_knn.predict(x_test)\n",
    "y_pred_prob = model_knn.predict_proba(x_test)\n",
    "\n",
    "acc_clas_roc(y_test,y_pred,y_pred_prob)\n",
    "\n",
    "acc_model.append(accuracy_score(y_test,y_pred))"
   ]
  },
  {
   "cell_type": "code",
   "execution_count": 45,
   "id": "fundamental-dollar",
   "metadata": {},
   "outputs": [
    {
     "name": "stdout",
     "output_type": "stream",
     "text": [
      "logestic  :  0.7207207207207207\n",
      "svm_linear  :  0.7045045045045045\n",
      "svm_rbf  :  0.9387387387387387\n",
      "d_tree  :  0.9333333333333333\n",
      "knn  :  0.9423423423423424\n"
     ]
    }
   ],
   "source": [
    "col1=['logestic','svm_linear','svm_rbf','d_tree','knn']\n",
    "for i,score in  enumerate(acc_model):\n",
    "    print(col1[i],\" : \",score)"
   ]
  },
  {
   "cell_type": "code",
   "execution_count": 29,
   "id": "local-charles",
   "metadata": {},
   "outputs": [
    {
     "data": {
      "text/plain": [
       "<AxesSubplot:>"
      ]
     },
     "execution_count": 29,
     "metadata": {},
     "output_type": "execute_result"
    },
    {
     "data": {
      "image/png": "[encoded data removed]",
      "text/plain": [
       "<Figure size 432x288 with 1 Axes>"
      ]
     },
     "metadata": {
      "needs_background": "light"
     },
     "output_type": "display_data"
    }
   ],
   "source": [
    "## model Accuracy plot\n",
    "columns=['logestic','svm_linear','svm_rbf','d_tree','knn']\n",
    "vis = pd.Series(acc_model,columns)\n",
    "vis.plot.bar()"
   ]
  },
  {
   "cell_type": "markdown",
   "id": "thrown-japan",
   "metadata": {},
   "source": [
    "## hyperparameter tuning"
   ]
  },
  {
   "cell_type": "markdown",
   "id": "dated-latest",
   "metadata": {},
   "source": [
    "### LogisticRegression"
   ]
  },
  {
   "cell_type": "code",
   "execution_count": 34,
   "id": "cubic-migration",
   "metadata": {},
   "outputs": [
    {
     "name": "stdout",
     "output_type": "stream",
     "text": [
      "Best: 0.746795 using {'C': 100, 'penalty': 'l2', 'solver': 'newton-cg'}\n",
      "0.746795 (0.024932) with: {'C': 100, 'penalty': 'l2', 'solver': 'newton-cg'}\n",
      "0.746795 (0.024932) with: {'C': 100, 'penalty': 'l2', 'solver': 'lbfgs'}\n",
      "0.746795 (0.024932) with: {'C': 100, 'penalty': 'l2', 'solver': 'liblinear'}\n",
      "0.746795 (0.024932) with: {'C': 10, 'penalty': 'l2', 'solver': 'newton-cg'}\n",
      "0.746795 (0.024932) with: {'C': 10, 'penalty': 'l2', 'solver': 'lbfgs'}\n",
      "0.746795 (0.024932) with: {'C': 10, 'penalty': 'l2', 'solver': 'liblinear'}\n",
      "0.746394 (0.025189) with: {'C': 1.0, 'penalty': 'l2', 'solver': 'newton-cg'}\n",
      "0.746394 (0.025189) with: {'C': 1.0, 'penalty': 'l2', 'solver': 'lbfgs'}\n",
      "0.746795 (0.024932) with: {'C': 1.0, 'penalty': 'l2', 'solver': 'liblinear'}\n",
      "0.746394 (0.024866) with: {'C': 0.1, 'penalty': 'l2', 'solver': 'newton-cg'}\n",
      "0.746394 (0.024866) with: {'C': 0.1, 'penalty': 'l2', 'solver': 'lbfgs'}\n",
      "0.745994 (0.025080) with: {'C': 0.1, 'penalty': 'l2', 'solver': 'liblinear'}\n",
      "0.732372 (0.021932) with: {'C': 0.01, 'penalty': 'l2', 'solver': 'newton-cg'}\n",
      "0.732372 (0.021932) with: {'C': 0.01, 'penalty': 'l2', 'solver': 'lbfgs'}\n",
      "0.743590 (0.025906) with: {'C': 0.01, 'penalty': 'l2', 'solver': 'liblinear'}\n"
     ]
    }
   ],
   "source": [
    "solvers = ['newton-cg', 'lbfgs', 'liblinear']\n",
    "penalty = ['l2']\n",
    "c_values = [100, 10, 1.0, 0.1, 0.01]\n",
    "lr_model = LogisticRegression()\n",
    "param = dict(solver=solvers,penalty=penalty,C=c_values)\n",
    "cv = RepeatedStratifiedKFold(n_splits=10, n_repeats=3, random_state=1)\n",
    "grid_search = GridSearchCV(estimator=lr_model, param_grid=param, n_jobs=-1, cv=cv, scoring='accuracy',error_score=0)\n",
    "grid_result = grid_search.fit(x_train, y_train)\n",
    "\n",
    "print(\"Best: %f using %s\" % (grid_result.best_score_, grid_result.best_params_))\n",
    "means = grid_result.cv_results_['mean_test_score']\n",
    "stds = grid_result.cv_results_['std_test_score']\n",
    "params = grid_result.cv_results_['params']\n",
    "for mean, stdev, param in zip(means, stds, params):\n",
    "    print(\"%f (%f) with: %r\" % (mean, stdev, param))"
   ]
  },
  {
   "cell_type": "code",
   "execution_count": 35,
   "id": "outside-disposal",
   "metadata": {},
   "outputs": [
    {
     "name": "stdout",
     "output_type": "stream",
     "text": [
      "Accuracy 0.7207207207207207 \n",
      "\n",
      "\n",
      "              precision    recall  f1-score   support\n",
      "\n",
      "           0       0.67      0.99      0.80       307\n",
      "           1       0.97      0.39      0.55       248\n",
      "\n",
      "    accuracy                           0.72       555\n",
      "   macro avg       0.82      0.69      0.68       555\n",
      "weighted avg       0.80      0.72      0.69       555\n",
      "\n"
     ]
    },
    {
     "data": {
      "image/png": "[encoded data removed]",
      "text/plain": [
       "<Figure size 432x288 with 1 Axes>"
      ]
     },
     "metadata": {
      "needs_background": "light"
     },
     "output_type": "display_data"
    }
   ],
   "source": [
    "lr_model = grid_result.best_estimator_\n",
    "lr_model.fit(x_train,y_train)\n",
    "y_pred = lr_model.predict(x_test)\n",
    "y_pred_prob = lr_model.predict_proba(x_test)\n",
    "\n",
    "acc_clas_roc(y_test,y_pred,y_pred_prob)\n",
    "\n",
    "acc_hyper_models.append(accuracy_score(y_test,y_pred))"
   ]
  },
  {
   "cell_type": "markdown",
   "id": "finite-serve",
   "metadata": {},
   "source": [
    "### SVM"
   ]
  },
  {
   "cell_type": "code",
   "execution_count": 36,
   "id": "bacterial-quick",
   "metadata": {},
   "outputs": [
    {
     "name": "stdout",
     "output_type": "stream",
     "text": [
      "Best: 0.947516 using {'C': 10, 'gamma': 'scale', 'kernel': 'rbf'}\n",
      "0.642628 (0.019603) with: {'C': 50, 'gamma': 'scale', 'kernel': 'poly'}\n",
      "0.945312 (0.019071) with: {'C': 50, 'gamma': 'scale', 'kernel': 'rbf'}\n",
      "0.459936 (0.034711) with: {'C': 50, 'gamma': 'scale', 'kernel': 'sigmoid'}\n",
      "0.741787 (0.026315) with: {'C': 50, 'gamma': 'scale', 'kernel': 'linear'}\n",
      "0.642428 (0.019895) with: {'C': 10, 'gamma': 'scale', 'kernel': 'poly'}\n",
      "0.947516 (0.019296) with: {'C': 10, 'gamma': 'scale', 'kernel': 'rbf'}\n",
      "0.460337 (0.034341) with: {'C': 10, 'gamma': 'scale', 'kernel': 'sigmoid'}\n",
      "0.741787 (0.026315) with: {'C': 10, 'gamma': 'scale', 'kernel': 'linear'}\n",
      "0.642228 (0.020023) with: {'C': 1.0, 'gamma': 'scale', 'kernel': 'poly'}\n",
      "0.945713 (0.017666) with: {'C': 1.0, 'gamma': 'scale', 'kernel': 'rbf'}\n",
      "0.460537 (0.038837) with: {'C': 1.0, 'gamma': 'scale', 'kernel': 'sigmoid'}\n",
      "0.741787 (0.026315) with: {'C': 1.0, 'gamma': 'scale', 'kernel': 'linear'}\n",
      "0.641827 (0.019972) with: {'C': 0.1, 'gamma': 'scale', 'kernel': 'poly'}\n",
      "0.933293 (0.018747) with: {'C': 0.1, 'gamma': 'scale', 'kernel': 'rbf'}\n",
      "0.465345 (0.034765) with: {'C': 0.1, 'gamma': 'scale', 'kernel': 'sigmoid'}\n",
      "0.741787 (0.026315) with: {'C': 0.1, 'gamma': 'scale', 'kernel': 'linear'}\n",
      "0.634415 (0.018904) with: {'C': 0.01, 'gamma': 'scale', 'kernel': 'poly'}\n",
      "0.910457 (0.021529) with: {'C': 0.01, 'gamma': 'scale', 'kernel': 'rbf'}\n",
      "0.674279 (0.018317) with: {'C': 0.01, 'gamma': 'scale', 'kernel': 'sigmoid'}\n",
      "0.733774 (0.027628) with: {'C': 0.01, 'gamma': 'scale', 'kernel': 'linear'}\n"
     ]
    }
   ],
   "source": [
    "model = SVC()\n",
    "kernel = ['poly', 'rbf', 'sigmoid','linear']\n",
    "C = [50, 10, 1.0, 0.1, 0.01]\n",
    "gamma = ['scale']\n",
    "\n",
    "grid = dict(kernel=kernel,C=C,gamma=gamma)\n",
    "cv = RepeatedStratifiedKFold(n_splits=10, n_repeats=3, random_state=1)\n",
    "grid_search = GridSearchCV(estimator=model, param_grid=grid, n_jobs=-1, cv=cv, scoring='accuracy',error_score=0)\n",
    "grid_result = grid_search.fit(x_train, y_train)\n",
    "\n",
    "print(\"Best: %f using %s\" % (grid_result.best_score_, grid_result.best_params_))\n",
    "means = grid_result.cv_results_['mean_test_score']\n",
    "stds = grid_result.cv_results_['std_test_score']\n",
    "params = grid_result.cv_results_['params']\n",
    "for mean, stdev, param in zip(means, stds, params):\n",
    "    print(\"%f (%f) with: %r\" % (mean, stdev, param))"
   ]
  },
  {
   "cell_type": "code",
   "execution_count": 37,
   "id": "common-astronomy",
   "metadata": {},
   "outputs": [],
   "source": [
    "model = SVC()\n",
    "model = grid_result.best_estimator_\n",
    "model.fit(x_train,y_train)\n",
    "y_pred = model.predict(x_test)\n",
    "print(accuracy_score(y_test,y_pred))\n",
    "\n",
    "acc_hyper_models.append(accuracy_score(y_test,y_pred))"
   ]
  },
  {
   "cell_type": "markdown",
   "id": "economic-reservation",
   "metadata": {},
   "source": [
    "## Decision Tree"
   ]
  },
  {
   "cell_type": "code",
   "execution_count": 38,
   "id": "musical-procurement",
   "metadata": {},
   "outputs": [
    {
     "name": "stdout",
     "output_type": "stream",
     "text": [
      "Best: 0.947716 using {'criterion': 'gini', 'max_depth': None, 'max_features': None, 'min_samples_leaf': 4}\n",
      "0.735577 (0.105970) with: {'criterion': 'gini', 'max_depth': 3, 'max_features': 'auto', 'min_samples_leaf': 1}\n",
      "0.785056 (0.102034) with: {'criterion': 'gini', 'max_depth': 3, 'max_features': 'auto', 'min_samples_leaf': 2}\n",
      "0.744391 (0.123728) with: {'criterion': 'gini', 'max_depth': 3, 'max_features': 'auto', 'min_samples_leaf': 3}\n",
      "0.790465 (0.120706) with: {'criterion': 'gini', 'max_depth': 3, 'max_features': 'auto', 'min_samples_leaf': 4}\n",
      "0.753205 (0.094922) with: {'criterion': 'gini', 'max_depth': 3, 'max_features': 'sqrt', 'min_samples_leaf': 1}\n",
      "0.767027 (0.114433) with: {'criterion': 'gini', 'max_depth': 3, 'max_features': 'sqrt', 'min_samples_leaf': 2}\n",
      "0.756410 (0.114420) with: {'criterion': 'gini', 'max_depth': 3, 'max_features': 'sqrt', 'min_samples_leaf': 3}\n",
      "0.764022 (0.099402) with: {'criterion': 'gini', 'max_depth': 3, 'max_features': 'sqrt', 'min_samples_leaf': 4}\n",
      "0.752404 (0.124068) with: {'criterion': 'gini', 'max_depth': 3, 'max_features': 'log2', 'min_samples_leaf': 1}\n",
      "0.778245 (0.112490) with: {'criterion': 'gini', 'max_depth': 3, 'max_features': 'log2', 'min_samples_leaf': 2}\n",
      "0.766627 (0.095611) with: {'criterion': 'gini', 'max_depth': 3, 'max_features': 'log2', 'min_samples_leaf': 3}\n",
      "0.778446 (0.108405) with: {'criterion': 'gini', 'max_depth': 3, 'max_features': 'log2', 'min_samples_leaf': 4}\n",
      "0.888421 (0.039309) with: {'criterion': 'gini', 'max_depth': 3, 'max_features': None, 'min_samples_leaf': 1}\n",
      "0.888421 (0.039309) with: {'criterion': 'gini', 'max_depth': 3, 'max_features': None, 'min_samples_leaf': 2}\n",
      "0.888421 (0.039309) with: {'criterion': 'gini', 'max_depth': 3, 'max_features': None, 'min_samples_leaf': 3}\n",
      "0.888421 (0.039309) with: {'criterion': 'gini', 'max_depth': 3, 'max_features': None, 'min_samples_leaf': 4}\n",
      "0.849760 (0.073655) with: {'criterion': 'gini', 'max_depth': 5, 'max_features': 'auto', 'min_samples_leaf': 1}\n",
      "0.861979 (0.073975) with: {'criterion': 'gini', 'max_depth': 5, 'max_features': 'auto', 'min_samples_leaf': 2}\n",
      "0.842348 (0.072011) with: {'criterion': 'gini', 'max_depth': 5, 'max_features': 'auto', 'min_samples_leaf': 3}\n",
      "0.857572 (0.083558) with: {'criterion': 'gini', 'max_depth': 5, 'max_features': 'auto', 'min_samples_leaf': 4}\n",
      "0.830529 (0.085468) with: {'criterion': 'gini', 'max_depth': 5, 'max_features': 'sqrt', 'min_samples_leaf': 1}\n",
      "0.871595 (0.071249) with: {'criterion': 'gini', 'max_depth': 5, 'max_features': 'sqrt', 'min_samples_leaf': 2}\n",
      "0.872997 (0.075595) with: {'criterion': 'gini', 'max_depth': 5, 'max_features': 'sqrt', 'min_samples_leaf': 3}\n",
      "0.872596 (0.073221) with: {'criterion': 'gini', 'max_depth': 5, 'max_features': 'sqrt', 'min_samples_leaf': 4}\n",
      "0.855168 (0.080112) with: {'criterion': 'gini', 'max_depth': 5, 'max_features': 'log2', 'min_samples_leaf': 1}\n",
      "0.844952 (0.080299) with: {'criterion': 'gini', 'max_depth': 5, 'max_features': 'log2', 'min_samples_leaf': 2}\n",
      "0.856370 (0.093404) with: {'criterion': 'gini', 'max_depth': 5, 'max_features': 'log2', 'min_samples_leaf': 3}\n",
      "0.851562 (0.088139) with: {'criterion': 'gini', 'max_depth': 5, 'max_features': 'log2', 'min_samples_leaf': 4}\n",
      "0.935697 (0.019252) with: {'criterion': 'gini', 'max_depth': 5, 'max_features': None, 'min_samples_leaf': 1}\n",
      "0.935897 (0.019339) with: {'criterion': 'gini', 'max_depth': 5, 'max_features': None, 'min_samples_leaf': 2}\n",
      "0.935697 (0.019510) with: {'criterion': 'gini', 'max_depth': 5, 'max_features': None, 'min_samples_leaf': 3}\n",
      "0.936298 (0.019410) with: {'criterion': 'gini', 'max_depth': 5, 'max_features': None, 'min_samples_leaf': 4}\n",
      "0.937300 (0.021746) with: {'criterion': 'gini', 'max_depth': None, 'max_features': 'auto', 'min_samples_leaf': 1}\n",
      "0.932692 (0.020141) with: {'criterion': 'gini', 'max_depth': None, 'max_features': 'auto', 'min_samples_leaf': 2}\n",
      "0.939904 (0.019656) with: {'criterion': 'gini', 'max_depth': None, 'max_features': 'auto', 'min_samples_leaf': 3}\n",
      "0.930088 (0.027290) with: {'criterion': 'gini', 'max_depth': None, 'max_features': 'auto', 'min_samples_leaf': 4}\n",
      "0.937300 (0.020229) with: {'criterion': 'gini', 'max_depth': None, 'max_features': 'sqrt', 'min_samples_leaf': 1}\n",
      "0.937300 (0.020739) with: {'criterion': 'gini', 'max_depth': None, 'max_features': 'sqrt', 'min_samples_leaf': 2}\n",
      "0.938101 (0.020473) with: {'criterion': 'gini', 'max_depth': None, 'max_features': 'sqrt', 'min_samples_leaf': 3}\n",
      "0.924279 (0.021508) with: {'criterion': 'gini', 'max_depth': None, 'max_features': 'sqrt', 'min_samples_leaf': 4}\n",
      "0.933293 (0.023293) with: {'criterion': 'gini', 'max_depth': None, 'max_features': 'log2', 'min_samples_leaf': 1}\n",
      "0.936699 (0.021255) with: {'criterion': 'gini', 'max_depth': None, 'max_features': 'log2', 'min_samples_leaf': 2}\n",
      "0.933694 (0.026340) with: {'criterion': 'gini', 'max_depth': None, 'max_features': 'log2', 'min_samples_leaf': 3}\n",
      "0.932091 (0.023474) with: {'criterion': 'gini', 'max_depth': None, 'max_features': 'log2', 'min_samples_leaf': 4}\n",
      "0.939904 (0.020314) with: {'criterion': 'gini', 'max_depth': None, 'max_features': None, 'min_samples_leaf': 1}\n",
      "0.939704 (0.019020) with: {'criterion': 'gini', 'max_depth': None, 'max_features': None, 'min_samples_leaf': 2}\n",
      "0.945513 (0.020824) with: {'criterion': 'gini', 'max_depth': None, 'max_features': None, 'min_samples_leaf': 3}\n",
      "0.947716 (0.018573) with: {'criterion': 'gini', 'max_depth': None, 'max_features': None, 'min_samples_leaf': 4}\n",
      "0.771034 (0.098344) with: {'criterion': 'entropy', 'max_depth': 3, 'max_features': 'auto', 'min_samples_leaf': 1}\n",
      "0.744191 (0.098562) with: {'criterion': 'entropy', 'max_depth': 3, 'max_features': 'auto', 'min_samples_leaf': 2}\n",
      "0.729968 (0.117032) with: {'criterion': 'entropy', 'max_depth': 3, 'max_features': 'auto', 'min_samples_leaf': 3}\n",
      "0.716546 (0.101732) with: {'criterion': 'entropy', 'max_depth': 3, 'max_features': 'auto', 'min_samples_leaf': 4}\n",
      "0.740184 (0.113252) with: {'criterion': 'entropy', 'max_depth': 3, 'max_features': 'sqrt', 'min_samples_leaf': 1}\n",
      "0.745593 (0.108721) with: {'criterion': 'entropy', 'max_depth': 3, 'max_features': 'sqrt', 'min_samples_leaf': 2}\n",
      "0.749599 (0.116733) with: {'criterion': 'entropy', 'max_depth': 3, 'max_features': 'sqrt', 'min_samples_leaf': 3}\n",
      "0.756210 (0.107992) with: {'criterion': 'entropy', 'max_depth': 3, 'max_features': 'sqrt', 'min_samples_leaf': 4}\n",
      "0.744591 (0.105753) with: {'criterion': 'entropy', 'max_depth': 3, 'max_features': 'log2', 'min_samples_leaf': 1}\n",
      "0.748197 (0.107874) with: {'criterion': 'entropy', 'max_depth': 3, 'max_features': 'log2', 'min_samples_leaf': 2}\n",
      "0.712139 (0.122585) with: {'criterion': 'entropy', 'max_depth': 3, 'max_features': 'log2', 'min_samples_leaf': 3}\n",
      "0.732372 (0.107567) with: {'criterion': 'entropy', 'max_depth': 3, 'max_features': 'log2', 'min_samples_leaf': 4}\n",
      "0.836338 (0.040709) with: {'criterion': 'entropy', 'max_depth': 3, 'max_features': None, 'min_samples_leaf': 1}\n",
      "0.836338 (0.040709) with: {'criterion': 'entropy', 'max_depth': 3, 'max_features': None, 'min_samples_leaf': 2}\n",
      "0.836338 (0.040709) with: {'criterion': 'entropy', 'max_depth': 3, 'max_features': None, 'min_samples_leaf': 3}\n",
      "0.836338 (0.040709) with: {'criterion': 'entropy', 'max_depth': 3, 'max_features': None, 'min_samples_leaf': 4}\n",
      "0.832732 (0.073892) with: {'criterion': 'entropy', 'max_depth': 5, 'max_features': 'auto', 'min_samples_leaf': 1}\n",
      "0.858974 (0.071200) with: {'criterion': 'entropy', 'max_depth': 5, 'max_features': 'auto', 'min_samples_leaf': 2}\n",
      "0.854768 (0.061498) with: {'criterion': 'entropy', 'max_depth': 5, 'max_features': 'auto', 'min_samples_leaf': 3}\n",
      "0.866587 (0.060982) with: {'criterion': 'entropy', 'max_depth': 5, 'max_features': 'auto', 'min_samples_leaf': 4}\n",
      "0.840144 (0.087217) with: {'criterion': 'entropy', 'max_depth': 5, 'max_features': 'sqrt', 'min_samples_leaf': 1}\n",
      "0.843950 (0.080069) with: {'criterion': 'entropy', 'max_depth': 5, 'max_features': 'sqrt', 'min_samples_leaf': 2}\n",
      "0.831130 (0.090166) with: {'criterion': 'entropy', 'max_depth': 5, 'max_features': 'sqrt', 'min_samples_leaf': 3}\n",
      "0.863782 (0.080249) with: {'criterion': 'entropy', 'max_depth': 5, 'max_features': 'sqrt', 'min_samples_leaf': 4}\n",
      "0.827524 (0.096659) with: {'criterion': 'entropy', 'max_depth': 5, 'max_features': 'log2', 'min_samples_leaf': 1}\n",
      "0.806891 (0.075230) with: {'criterion': 'entropy', 'max_depth': 5, 'max_features': 'log2', 'min_samples_leaf': 2}\n",
      "0.865785 (0.066645) with: {'criterion': 'entropy', 'max_depth': 5, 'max_features': 'log2', 'min_samples_leaf': 3}\n",
      "0.836338 (0.082919) with: {'criterion': 'entropy', 'max_depth': 5, 'max_features': 'log2', 'min_samples_leaf': 4}\n",
      "0.932893 (0.022327) with: {'criterion': 'entropy', 'max_depth': 5, 'max_features': None, 'min_samples_leaf': 1}\n",
      "0.932893 (0.022327) with: {'criterion': 'entropy', 'max_depth': 5, 'max_features': None, 'min_samples_leaf': 2}\n",
      "0.932492 (0.022843) with: {'criterion': 'entropy', 'max_depth': 5, 'max_features': None, 'min_samples_leaf': 3}\n",
      "0.932292 (0.022693) with: {'criterion': 'entropy', 'max_depth': 5, 'max_features': None, 'min_samples_leaf': 4}\n",
      "0.938502 (0.016691) with: {'criterion': 'entropy', 'max_depth': None, 'max_features': 'auto', 'min_samples_leaf': 1}\n",
      "0.934896 (0.020672) with: {'criterion': 'entropy', 'max_depth': None, 'max_features': 'auto', 'min_samples_leaf': 2}\n",
      "0.931891 (0.020579) with: {'criterion': 'entropy', 'max_depth': None, 'max_features': 'auto', 'min_samples_leaf': 3}\n",
      "0.930088 (0.020479) with: {'criterion': 'entropy', 'max_depth': None, 'max_features': 'auto', 'min_samples_leaf': 4}\n",
      "0.934095 (0.023630) with: {'criterion': 'entropy', 'max_depth': None, 'max_features': 'sqrt', 'min_samples_leaf': 1}\n",
      "0.933894 (0.023811) with: {'criterion': 'entropy', 'max_depth': None, 'max_features': 'sqrt', 'min_samples_leaf': 2}\n",
      "0.936699 (0.023808) with: {'criterion': 'entropy', 'max_depth': None, 'max_features': 'sqrt', 'min_samples_leaf': 3}\n",
      "0.933494 (0.024347) with: {'criterion': 'entropy', 'max_depth': None, 'max_features': 'sqrt', 'min_samples_leaf': 4}\n",
      "0.937099 (0.019669) with: {'criterion': 'entropy', 'max_depth': None, 'max_features': 'log2', 'min_samples_leaf': 1}\n",
      "0.928686 (0.021341) with: {'criterion': 'entropy', 'max_depth': None, 'max_features': 'log2', 'min_samples_leaf': 2}\n",
      "0.929487 (0.021212) with: {'criterion': 'entropy', 'max_depth': None, 'max_features': 'log2', 'min_samples_leaf': 3}\n",
      "0.925280 (0.027086) with: {'criterion': 'entropy', 'max_depth': None, 'max_features': 'log2', 'min_samples_leaf': 4}\n",
      "0.940304 (0.019637) with: {'criterion': 'entropy', 'max_depth': None, 'max_features': None, 'min_samples_leaf': 1}\n",
      "0.945312 (0.020676) with: {'criterion': 'entropy', 'max_depth': None, 'max_features': None, 'min_samples_leaf': 2}\n",
      "0.945913 (0.020727) with: {'criterion': 'entropy', 'max_depth': None, 'max_features': None, 'min_samples_leaf': 3}\n",
      "0.943510 (0.020177) with: {'criterion': 'entropy', 'max_depth': None, 'max_features': None, 'min_samples_leaf': 4}\n"
     ]
    }
   ],
   "source": [
    "param_dist = {\"max_depth\": [3,5,None],\n",
    "              \"max_features\":[\"auto\",\"sqrt\",\"log2\",None],\n",
    "              \"min_samples_leaf\": [1,2,3,4],\n",
    "              \"criterion\": [\"gini\", \"entropy\"]\n",
    "             }\n",
    "model = DecisionTreeClassifier()\n",
    "cv = RepeatedStratifiedKFold(n_splits=10, n_repeats=3, random_state=1)\n",
    "grid_search = GridSearchCV(estimator=model, param_grid=param_dist, n_jobs=-1, cv=cv, scoring='accuracy',error_score=0)\n",
    "grid_result = grid_search.fit(x_train, y_train)\n",
    "\n",
    "print(\"Best: %f using %s\" % (grid_result.best_score_, grid_result.best_params_))\n",
    "means = grid_result.cv_results_['mean_test_score']\n",
    "stds = grid_result.cv_results_['std_test_score']\n",
    "params = grid_result.cv_results_['params']\n",
    "for mean, stdev, param in zip(means, stds, params):\n",
    "    print(\"%f (%f) with: %r\" % (mean, stdev, param))"
   ]
  },
  {
   "cell_type": "code",
   "execution_count": 39,
   "id": "behind-income",
   "metadata": {},
   "outputs": [
    {
     "name": "stdout",
     "output_type": "stream",
     "text": [
      "Accuracy 0.9297297297297298 \n",
      "\n",
      "\n",
      "              precision    recall  f1-score   support\n",
      "\n",
      "           0       0.92      0.96      0.94       307\n",
      "           1       0.94      0.90      0.92       248\n",
      "\n",
      "    accuracy                           0.93       555\n",
      "   macro avg       0.93      0.93      0.93       555\n",
      "weighted avg       0.93      0.93      0.93       555\n",
      "\n"
     ]
    },
    {
     "data": {
      "image/png": "[encoded data removed]",
      "text/plain": [
       "<Figure size 432x288 with 1 Axes>"
      ]
     },
     "metadata": {
      "needs_background": "light"
     },
     "output_type": "display_data"
    }
   ],
   "source": [
    "model = DecisionTreeClassifier()\n",
    "model = grid_result.best_estimator_\n",
    "model.fit(x_train,y_train)\n",
    "y_pred = model.predict(x_test)\n",
    "y_pred_prob = model.predict_proba(x_test)\n",
    "\n",
    "acc_clas_roc(y_test,y_pred,y_pred_prob)\n",
    "\n",
    "acc_hyper_models.append(accuracy_score(y_test,y_pred))"
   ]
  },
  {
   "cell_type": "markdown",
   "id": "permanent-serve",
   "metadata": {},
   "source": [
    "## KNN"
   ]
  },
  {
   "cell_type": "code",
   "execution_count": 40,
   "id": "dated-threat",
   "metadata": {},
   "outputs": [
    {
     "name": "stdout",
     "output_type": "stream",
     "text": [
      "Best: 0.951322 using {'metric': 'manhattan', 'n_neighbors': 19, 'weights': 'distance'}\n",
      "0.943510 (0.018702) with: {'metric': 'euclidean', 'n_neighbors': 1, 'weights': 'uniform'}\n",
      "0.943510 (0.018702) with: {'metric': 'euclidean', 'n_neighbors': 1, 'weights': 'distance'}\n",
      "0.949319 (0.018538) with: {'metric': 'euclidean', 'n_neighbors': 3, 'weights': 'uniform'}\n",
      "0.947316 (0.019364) with: {'metric': 'euclidean', 'n_neighbors': 3, 'weights': 'distance'}\n",
      "0.945913 (0.018013) with: {'metric': 'euclidean', 'n_neighbors': 5, 'weights': 'uniform'}\n",
      "0.947716 (0.018806) with: {'metric': 'euclidean', 'n_neighbors': 5, 'weights': 'distance'}\n",
      "0.948718 (0.018269) with: {'metric': 'euclidean', 'n_neighbors': 7, 'weights': 'uniform'}\n",
      "0.947516 (0.018227) with: {'metric': 'euclidean', 'n_neighbors': 7, 'weights': 'distance'}\n",
      "0.949519 (0.017790) with: {'metric': 'euclidean', 'n_neighbors': 9, 'weights': 'uniform'}\n",
      "0.948518 (0.019043) with: {'metric': 'euclidean', 'n_neighbors': 9, 'weights': 'distance'}\n",
      "0.950120 (0.018673) with: {'metric': 'euclidean', 'n_neighbors': 11, 'weights': 'uniform'}\n",
      "0.949720 (0.018894) with: {'metric': 'euclidean', 'n_neighbors': 11, 'weights': 'distance'}\n",
      "0.950721 (0.016728) with: {'metric': 'euclidean', 'n_neighbors': 13, 'weights': 'uniform'}\n",
      "0.950120 (0.020984) with: {'metric': 'euclidean', 'n_neighbors': 13, 'weights': 'distance'}\n",
      "0.949920 (0.018559) with: {'metric': 'euclidean', 'n_neighbors': 15, 'weights': 'uniform'}\n",
      "0.948918 (0.021810) with: {'metric': 'euclidean', 'n_neighbors': 15, 'weights': 'distance'}\n",
      "0.949920 (0.018238) with: {'metric': 'euclidean', 'n_neighbors': 17, 'weights': 'uniform'}\n",
      "0.949720 (0.021245) with: {'metric': 'euclidean', 'n_neighbors': 17, 'weights': 'distance'}\n",
      "0.948317 (0.016398) with: {'metric': 'euclidean', 'n_neighbors': 19, 'weights': 'uniform'}\n",
      "0.949920 (0.020601) with: {'metric': 'euclidean', 'n_neighbors': 19, 'weights': 'distance'}\n",
      "0.943510 (0.021001) with: {'metric': 'manhattan', 'n_neighbors': 1, 'weights': 'uniform'}\n",
      "0.943510 (0.021001) with: {'metric': 'manhattan', 'n_neighbors': 1, 'weights': 'distance'}\n",
      "0.950921 (0.017352) with: {'metric': 'manhattan', 'n_neighbors': 3, 'weights': 'uniform'}\n",
      "0.947917 (0.019637) with: {'metric': 'manhattan', 'n_neighbors': 3, 'weights': 'distance'}\n",
      "0.944712 (0.018462) with: {'metric': 'manhattan', 'n_neighbors': 5, 'weights': 'uniform'}\n",
      "0.947917 (0.019027) with: {'metric': 'manhattan', 'n_neighbors': 5, 'weights': 'distance'}\n",
      "0.946715 (0.019912) with: {'metric': 'manhattan', 'n_neighbors': 7, 'weights': 'uniform'}\n",
      "0.947716 (0.020474) with: {'metric': 'manhattan', 'n_neighbors': 7, 'weights': 'distance'}\n",
      "0.949119 (0.018467) with: {'metric': 'manhattan', 'n_neighbors': 9, 'weights': 'uniform'}\n",
      "0.949720 (0.020665) with: {'metric': 'manhattan', 'n_neighbors': 9, 'weights': 'distance'}\n",
      "0.948317 (0.019825) with: {'metric': 'manhattan', 'n_neighbors': 11, 'weights': 'uniform'}\n",
      "0.949319 (0.019476) with: {'metric': 'manhattan', 'n_neighbors': 11, 'weights': 'distance'}\n",
      "0.948518 (0.018505) with: {'metric': 'manhattan', 'n_neighbors': 13, 'weights': 'uniform'}\n",
      "0.949319 (0.021406) with: {'metric': 'manhattan', 'n_neighbors': 13, 'weights': 'distance'}\n",
      "0.949920 (0.018023) with: {'metric': 'manhattan', 'n_neighbors': 15, 'weights': 'uniform'}\n",
      "0.949720 (0.021523) with: {'metric': 'manhattan', 'n_neighbors': 15, 'weights': 'distance'}\n",
      "0.950521 (0.019289) with: {'metric': 'manhattan', 'n_neighbors': 17, 'weights': 'uniform'}\n",
      "0.950921 (0.020993) with: {'metric': 'manhattan', 'n_neighbors': 17, 'weights': 'distance'}\n",
      "0.949319 (0.020629) with: {'metric': 'manhattan', 'n_neighbors': 19, 'weights': 'uniform'}\n",
      "0.951322 (0.021128) with: {'metric': 'manhattan', 'n_neighbors': 19, 'weights': 'distance'}\n",
      "0.943510 (0.018702) with: {'metric': 'minkowski', 'n_neighbors': 1, 'weights': 'uniform'}\n",
      "0.943510 (0.018702) with: {'metric': 'minkowski', 'n_neighbors': 1, 'weights': 'distance'}\n",
      "0.949319 (0.018538) with: {'metric': 'minkowski', 'n_neighbors': 3, 'weights': 'uniform'}\n",
      "0.947316 (0.019364) with: {'metric': 'minkowski', 'n_neighbors': 3, 'weights': 'distance'}\n",
      "0.945913 (0.018013) with: {'metric': 'minkowski', 'n_neighbors': 5, 'weights': 'uniform'}\n",
      "0.947716 (0.018806) with: {'metric': 'minkowski', 'n_neighbors': 5, 'weights': 'distance'}\n",
      "0.948718 (0.018269) with: {'metric': 'minkowski', 'n_neighbors': 7, 'weights': 'uniform'}\n",
      "0.947516 (0.018227) with: {'metric': 'minkowski', 'n_neighbors': 7, 'weights': 'distance'}\n",
      "0.949519 (0.017790) with: {'metric': 'minkowski', 'n_neighbors': 9, 'weights': 'uniform'}\n",
      "0.948518 (0.019043) with: {'metric': 'minkowski', 'n_neighbors': 9, 'weights': 'distance'}\n",
      "0.950120 (0.018673) with: {'metric': 'minkowski', 'n_neighbors': 11, 'weights': 'uniform'}\n",
      "0.949720 (0.018894) with: {'metric': 'minkowski', 'n_neighbors': 11, 'weights': 'distance'}\n",
      "0.950721 (0.016728) with: {'metric': 'minkowski', 'n_neighbors': 13, 'weights': 'uniform'}\n",
      "0.950120 (0.020984) with: {'metric': 'minkowski', 'n_neighbors': 13, 'weights': 'distance'}\n",
      "0.949920 (0.018559) with: {'metric': 'minkowski', 'n_neighbors': 15, 'weights': 'uniform'}\n",
      "0.948918 (0.021810) with: {'metric': 'minkowski', 'n_neighbors': 15, 'weights': 'distance'}\n",
      "0.949920 (0.018238) with: {'metric': 'minkowski', 'n_neighbors': 17, 'weights': 'uniform'}\n",
      "0.949720 (0.021245) with: {'metric': 'minkowski', 'n_neighbors': 17, 'weights': 'distance'}\n",
      "0.948317 (0.016398) with: {'metric': 'minkowski', 'n_neighbors': 19, 'weights': 'uniform'}\n",
      "0.949920 (0.020601) with: {'metric': 'minkowski', 'n_neighbors': 19, 'weights': 'distance'}\n"
     ]
    }
   ],
   "source": [
    "model = KNeighborsClassifier()\n",
    "n_neighbors = range(1, 21, 2)\n",
    "weights = ['uniform', 'distance']\n",
    "metric = ['euclidean', 'manhattan', 'minkowski']\n",
    "\n",
    "grid = dict(n_neighbors=n_neighbors,weights=weights,metric=metric)\n",
    "cv = RepeatedStratifiedKFold(n_splits=10, n_repeats=3, random_state=1)\n",
    "grid_search = GridSearchCV(estimator=model, param_grid=grid, n_jobs=-1, cv=cv, scoring='accuracy',error_score=0)\n",
    "grid_result = grid_search.fit(x_train, y_train)\n",
    "\n",
    "print(\"Best: %f using %s\" % (grid_result.best_score_, grid_result.best_params_))\n",
    "means = grid_result.cv_results_['mean_test_score']\n",
    "stds = grid_result.cv_results_['std_test_score']\n",
    "params = grid_result.cv_results_['params']\n",
    "for mean, stdev, param in zip(means, stds, params):\n",
    "    print(\"%f (%f) with: %r\" % (mean, stdev, param))"
   ]
  },
  {
   "cell_type": "code",
   "execution_count": 41,
   "id": "excess-second",
   "metadata": {},
   "outputs": [
    {
     "name": "stdout",
     "output_type": "stream",
     "text": [
      "Accuracy 0.9459459459459459 \n",
      "\n",
      "\n",
      "              precision    recall  f1-score   support\n",
      "\n",
      "           0       0.95      0.95      0.95       307\n",
      "           1       0.94      0.94      0.94       248\n",
      "\n",
      "    accuracy                           0.95       555\n",
      "   macro avg       0.95      0.94      0.95       555\n",
      "weighted avg       0.95      0.95      0.95       555\n",
      "\n"
     ]
    },
    {
     "data": {
      "image/png": "[encoded data removed]",
      "text/plain": [
       "<Figure size 432x288 with 1 Axes>"
      ]
     },
     "metadata": {
      "needs_background": "light"
     },
     "output_type": "display_data"
    }
   ],
   "source": [
    "model = KNeighborsClassifier()\n",
    "model = grid_result.best_estimator_\n",
    "model.fit(x_train,y_train)\n",
    "y_pred = model.predict(x_test)\n",
    "y_pred_prob = model.predict_proba(x_test)\n",
    "\n",
    "acc_clas_roc(y_test,y_pred,y_pred_prob)\n",
    "\n",
    "acc_hyper_models.append(accuracy_score(y_test,y_pred))"
   ]
  },
  {
   "cell_type": "code",
   "execution_count": 44,
   "id": "noticed-teacher",
   "metadata": {},
   "outputs": [
    {
     "name": "stdout",
     "output_type": "stream",
     "text": [
      "logestic  :  0.7207207207207207\n",
      "svm  :  0.9567567567567568\n",
      "d_tree  :  0.9297297297297298\n",
      "knn  :  0.9459459459459459\n"
     ]
    }
   ],
   "source": [
    "for i,score in  enumerate(acc_hyper_models):\n",
    "    print(columns[i],\" : \",score)"
   ]
  },
  {
   "cell_type": "code",
   "execution_count": 43,
   "id": "adjusted-philadelphia",
   "metadata": {},
   "outputs": [
    {
     "data": {
      "text/plain": [
       "<AxesSubplot:>"
      ]
     },
     "execution_count": 43,
     "metadata": {},
     "output_type": "execute_result"
    },
    {
     "data": {
      "image/png": "[encoded data removed]",
      "text/plain": [
       "<Figure size 432x288 with 1 Axes>"
      ]
     },
     "metadata": {
      "needs_background": "light"
     },
     "output_type": "display_data"
    }
   ],
   "source": [
    "## model Accuracy plot\n",
    "columns=['logestic','svm','d_tree','knn']\n",
    "vis = pd.Series(acc_hyper_models,columns)\n",
    "vis.plot.bar()"
   ]
  },
  {
   "cell_type": "markdown",
   "id": "widespread-cabinet",
   "metadata": {},
   "source": [
    "- `SVM` with `rbf` kernal perfoms well on the dataset with accuracy `95%`.\n",
    "- In data class `1` is in negative correlation, class `0` is in postive correlation.\n",
    "- So, SVM, KNN, Decision Tree performs well on the dataset, Logestic regression and SVM with linear kernal gives poor accuracy compare with non linear models."
   ]
  },
  {
   "cell_type": "markdown",
   "id": "worse-visitor",
   "metadata": {},
   "source": [
    "____________________________\n",
    "\n",
    "__________________________"
   ]
  }
 ],
 "metadata": {
  "kernelspec": {
   "display_name": "Python 3",
   "language": "python",
   "name": "python3"
  },
  "language_info": {
   "codemirror_mode": {
    "name": "ipython",
    "version": 3
   },
   "file_extension": ".py",
   "mimetype": "text/x-python",
   "name": "python",
   "nbconvert_exporter": "python",
   "pygments_lexer": "ipython3",
   "version": "3.7.10"
  }
 },
 "nbformat": 4,
 "nbformat_minor": 5
}
